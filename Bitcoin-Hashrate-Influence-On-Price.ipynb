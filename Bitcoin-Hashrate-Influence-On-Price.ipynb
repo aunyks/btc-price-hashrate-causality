{
 "cells": [
  {
   "cell_type": "markdown",
   "metadata": {},
   "source": [
    "# Post Hashrate Ergo Propter Hashrate?\n",
    "## Discovering the influence that Bitcoin hashrate has on its price.\n",
    "___\n",
    "As an increasing number of people try to model the price of Bitcoin, the system's hashrate often becomes a topic of discussion. Being a de jure predictor of price, the Bitcoin hashrate is believed to be a cause of changes in price. A historical inacurracy regarding this claim is that hashrate influences price because the price and hashrate are linearly correlated. Many of us have learned in secondary school statistics classes that correlation does *not* mean causation, though, so we can't conclude that hashrate actually *causes* price simply due to the two metrics' correlation. To do this, we need to prove causation. In this notebook, we'll discover whether the price and hashrate of Bitcoin are actually correlated and determine whether hashrate causes price."
   ]
  },
  {
   "cell_type": "markdown",
   "metadata": {},
   "source": [
    "We'll conduct this experiment by first determining whether the price and hashrate are linearly correlated by calculating the [Pearson correlation coefficient](https://en.wikipedia.org/wiki/Pearson_correlation_coefficient) of the two datasets. Then, we'll determine whether the price at timestep *t* is [Granger caused](https://en.wikipedia.org/wiki/Granger_causality) by the hashrate at timestep *t - n*, where *n* is the number of timesteps (in our case, days) between the price and the hashrate that causes said price."
   ]
  },
  {
   "cell_type": "markdown",
   "metadata": {},
   "source": [
    "Let's start off by setting up our notebook and importing all of the libraries we'll be using throughout our experiment.\n",
    "```bash\n",
    "curl https://api.blockchain.info/charts/hash-rate\\?timespan\\=all\\&format\\=json -o btc-hashrate.json\n",
    "curl https://api.blockchain.info/charts/market-price\\?timespan\\=all\\&format\\=json -o btc-price.json\n",
    "```"
   ]
  },
  {
   "cell_type": "code",
   "execution_count": 1,
   "metadata": {},
   "outputs": [],
   "source": [
    "%matplotlib inline\n",
    "import os\n",
    "import json\n",
    "import numpy as np\n",
    "import matplotlib.pyplot as plt\n",
    "from scipy.stats import pearsonr\n",
    "from statsmodels.tsa.stattools import adfuller, grangercausalitytests\n",
    "from statsmodels.tsa.statespace.tools import diff"
   ]
  },
  {
   "cell_type": "markdown",
   "metadata": {},
   "source": [
    "Now that we've import our libraries, we can initialize our constants. Change the price and hashrate filepaths according to your machine. Leave the rest as they are for now, as they'll be important later."
   ]
  },
  {
   "cell_type": "code",
   "execution_count": 2,
   "metadata": {},
   "outputs": [],
   "source": [
    "VERBOSE_TEST = False\n",
    "NUM_LAGS = 15\n",
    "STATSIG_LEVEL = 0.05\n",
    "PRICE_FILEPATH = '/Users/aunyks/dev/price-hashrate/btc-price.json'\n",
    "HASHRATE_FILEPATH = '/Users/aunyks/dev/price-hashrate/btc-hashrate.json'"
   ]
  },
  {
   "cell_type": "markdown",
   "metadata": {},
   "source": [
    "Now let's actually open our dataset files and load their data into some dictionaries, since they're JSON files."
   ]
  },
  {
   "cell_type": "code",
   "execution_count": 3,
   "metadata": {},
   "outputs": [],
   "source": [
    "price_dict = {}\n",
    "hashrate_dict = {}\n",
    "with open(PRICE_FILEPATH, 'r') as f:\n",
    "  price_dict = json.load(f)\n",
    "with open(HASHRATE_FILEPATH, 'r') as f:\n",
    "  hashrate_dict = json.load(f)"
   ]
  },
  {
   "cell_type": "markdown",
   "metadata": {},
   "source": [
    "Now that we've loaded our JSON data in to memory, we need to reshape the data for easier processing later."
   ]
  },
  {
   "cell_type": "code",
   "execution_count": 4,
   "metadata": {},
   "outputs": [],
   "source": [
    "# [{ 'x': 1000000000, 'y': 200000000 }] => [200000000, ...]\n",
    "prices = [point['y'] for point in list(price_dict['values'])]\n",
    "hashrates = [point['y'] for point in list(hashrate_dict['values'])]"
   ]
  },
  {
   "cell_type": "markdown",
   "metadata": {},
   "source": [
    "The variables `prices` and `hashrates` are lists (1d arrays) that contain our data, and each index maps to a timestep."
   ]
  },
  {
   "cell_type": "code",
   "execution_count": 5,
   "metadata": {},
   "outputs": [
    {
     "data": {
      "image/png": "[encoded data removed]",
      "text/plain": [
       "<Figure size 432x288 with 1 Axes>"
      ]
     },
     "metadata": {
      "needs_background": "light"
     },
     "output_type": "display_data"
    },
    {
     "data": {
      "image/png": "[encoded data removed]",
      "text/plain": [
       "<Figure size 432x288 with 1 Axes>"
      ]
     },
     "metadata": {
      "needs_background": "light"
     },
     "output_type": "display_data"
    }
   ],
   "source": [
    "plt.title('Bitcoin Price Over Time')\n",
    "plt.ylabel('Price (USD)')\n",
    "plt.xlabel('Timestep')\n",
    "plt.plot(prices, 'b-')\n",
    "plt.show()\n",
    "plt.title('Bitcoin Hashrate Over Time')\n",
    "plt.ylabel('Hashrate (TH/s)')\n",
    "plt.xlabel('Timestep')\n",
    "plt.plot(hashrates, 'r-')\n",
    "plt.show()"
   ]
  },
  {
   "cell_type": "markdown",
   "metadata": {},
   "source": [
    "Let's determine the correlation between the price and hashrate over time. If the two are posititvely correlated, then the two increase at similar times. If the two are negatively correlated, then one increases while the other decreases. If the two are not correlated (which I believe is highly unlikely), then there's no linear relationship between the two."
   ]
  },
  {
   "cell_type": "code",
   "execution_count": 6,
   "metadata": {},
   "outputs": [
    {
     "name": "stdout",
     "output_type": "stream",
     "text": [
      "Assuming the two are independent of each other, we can say with 100.00% confidence that the Bitcoin price and hashrate are positively correlated with a factor of ~0.75.\n"
     ]
    }
   ],
   "source": [
    "# pearsonr gives us the correlation coefficient and\n",
    "# the p value of the data\n",
    "correlation, corr_p = pearsonr(prices, hashrates)\n",
    "print('Assuming the two are independent of each other, we can say with {0}% confidence that the Bitcoin price and hashrate are {1} correlated with a factor of ~{2}.'.format('%.2f' % ((1 - corr_p) * 100), 'positively' if correlation > 0 else 'negatively', '%.2f' % correlation))"
   ]
  },
  {
   "cell_type": "code",
   "execution_count": 7,
   "metadata": {},
   "outputs": [
    {
     "name": "stdout",
     "output_type": "stream",
     "text": [
      "First 5 Prices and Hashrates\n",
      "----------------------------\n",
      "Price (USD)\tHashrate (TH/s)\n",
      "0.0\t\t4.971026962962963e-08\n",
      "0.0\t\t0.0\n",
      "0.0\t\t0.0\n",
      "0.0\t\t6.959437748148148e-07\n",
      "0.0\t\t5.269288580740741e-06\n"
     ]
    }
   ],
   "source": [
    "print('First 5 Prices and Hashrates')\n",
    "print('-' * 28)\n",
    "print('Price (USD)\\tHashrate (TH/s)')\n",
    "for i in range(5):\n",
    "  print(str(prices[i]) + '\\t\\t' + str(hashrates[i]))"
   ]
  },
  {
   "cell_type": "markdown",
   "metadata": {},
   "source": [
    "We've seen empirically that price and hashrate are linearly correlated, now let's see if hashrate Granger causes price. To do this, we need our data to be [stationary](https://en.wikipedia.org/wiki/Stationary_process). We'll use the [Augmented Dickey-Fuller test](https://en.wikipedia.org/wiki/Augmented_Dickey–Fuller_test) to determine whether a dataset is stationary.  \n",
    "\n",
    "It's important to recognize that the stationary datasets are different from their plain counterparts: the price dataset shows the daily change in price over time, while the stationary price shows the daily change in returns over time. The hashrate dataset shows the daily change in hashrate over time, while the stationary hashrate dataset shows how quickly a change in hashrate occurs."
   ]
  },
  {
   "cell_type": "code",
   "execution_count": 8,
   "metadata": {},
   "outputs": [],
   "source": [
    "def is_stationary(X):\n",
    "  result = adfuller(X)\n",
    "  return result[0] < 0 and result[1] <= STATSIG_LEVEL"
   ]
  },
  {
   "cell_type": "markdown",
   "metadata": {},
   "source": [
    "And these two datasets have a trending increase over time, so we need to [difference](https://people.duke.edu/~rnau/411diff.htm) the datasets until they're stationary."
   ]
  },
  {
   "cell_type": "code",
   "execution_count": 9,
   "metadata": {},
   "outputs": [],
   "source": [
    "def diff_til_stationary(X):\n",
    "  this_data = X\n",
    "  num_diffs = 0\n",
    "  while not is_stationary(this_data):\n",
    "    num_diffs += 1\n",
    "    this_data = diff(X)\n",
    "  return (this_data, num_diffs)"
   ]
  },
  {
   "cell_type": "code",
   "execution_count": 10,
   "metadata": {},
   "outputs": [
    {
     "name": "stdout",
     "output_type": "stream",
     "text": [
      "Diff'd prices 1 times\n",
      "Diff'd hashrates 1 times\n"
     ]
    }
   ],
   "source": [
    "price_diff_results = diff_til_stationary(prices)\n",
    "hashrate_diff_results = diff_til_stationary(hashrates)\n",
    "stationary_prices = price_diff_results[0]\n",
    "stationary_hashrates = hashrate_diff_results[0]\n",
    "print('Diff\\'d prices {0} times'.format(price_diff_results[1]))\n",
    "print('Diff\\'d hashrates {0} times'.format(hashrate_diff_results[1]))"
   ]
  },
  {
   "cell_type": "code",
   "execution_count": 11,
   "metadata": {},
   "outputs": [
    {
     "data": {
      "image/png": "[encoded data removed]",
      "text/plain": [
       "<Figure size 432x288 with 1 Axes>"
      ]
     },
     "metadata": {
      "needs_background": "light"
     },
     "output_type": "display_data"
    },
    {
     "data": {
      "image/png": "[encoded data removed]",
      "text/plain": [
       "<Figure size 432x288 with 1 Axes>"
      ]
     },
     "metadata": {
      "needs_background": "light"
     },
     "output_type": "display_data"
    }
   ],
   "source": [
    "plt.title('Bitcoin Price Over Time (Differenced {0} Times)'.format(price_diff_results[1]))\n",
    "plt.ylabel('Price (USD)')\n",
    "plt.xlabel('Timestep')\n",
    "plt.plot(stationary_prices, 'b-')\n",
    "plt.show()\n",
    "plt.title('  Bitcoin Hashrate Over Time (Differenced {0} Times)'.format(hashrate_diff_results[1]))\n",
    "plt.ylabel('Hashrate (TH/s)')\n",
    "plt.xlabel('Timestep')\n",
    "plt.plot(stationary_hashrates, 'r-')\n",
    "plt.show()"
   ]
  },
  {
   "cell_type": "markdown",
   "metadata": {},
   "source": [
    "We have our stationary data now, so let's start off the analysis of them by checking the correlation between them."
   ]
  },
  {
   "cell_type": "code",
   "execution_count": 12,
   "metadata": {},
   "outputs": [
    {
     "name": "stdout",
     "output_type": "stream",
     "text": [
      "Assuming the two are independent of each other, we can say with 53.01% confidence that Bitcoin's daily returns and daily change in hashrate are negatively correlated with a factor of approximately -0.02.\n"
     ]
    }
   ],
   "source": [
    "# pearsonr gives us the correlation coefficient and\n",
    "# the p value of the data\n",
    "stationary_correlation, stationary_corr_p = pearsonr(stationary_prices, stationary_hashrates)\n",
    "print('Assuming the two are independent of each other, we can say with {0}% confidence that Bitcoin\\'s daily returns and daily change in hashrate are {1} correlated with a factor of approximately {2}.'.format('%.2f' % ((1 - stationary_corr_p) * 100), 'positively' if stationary_correlation > 0 else 'negatively', '%.2f' % stationary_correlation))"
   ]
  },
  {
   "cell_type": "markdown",
   "metadata": {},
   "source": [
    "This is a very interesting insight. While price and the hashrate have strong positive correlation, the daily returns and daily change in hashrate are negatively correlated, albeit loosely.  \n",
    "\n",
    "This *could* mean that a Bitcoin investor's daily returns increase when the change in hashrate decreases, but we won't assert this idea, as our correlation test had about 50% confidence (p-value ≈ 0.5), which is less than the minimum confidence level we need for statistical significance (95% confidence, p-value <= 0.05)."
   ]
  },
  {
   "cell_type": "markdown",
   "metadata": {},
   "source": [
    "We've seen the correlations among the datasets, now let's test the causality of hashrate on price."
   ]
  },
  {
   "cell_type": "code",
   "execution_count": 13,
   "metadata": {},
   "outputs": [],
   "source": [
    "hashrate_cause_price_result = grangercausalitytests(np.column_stack((stationary_prices, stationary_hashrates)), NUM_LAGS, verbose=VERBOSE_TEST)"
   ]
  },
  {
   "cell_type": "markdown",
   "metadata": {},
   "source": [
    "This gives us the results of performing our tests on our data. The results look like this:"
   ]
  },
  {
   "cell_type": "code",
   "execution_count": 14,
   "metadata": {},
   "outputs": [
    {
     "name": "stdout",
     "output_type": "stream",
     "text": [
      "Days Behind: approx. 1 Lag: 1\n",
      "----------------------------------------\n",
      "Test\t\tResult\n",
      "ssr_ftest\t(2.6808374415934484, 0.10173946339782156, 1776.0, 1)\n",
      "ssr_chi2test\t(2.685365883217761, 0.10127396165314134, 1)\n",
      "lrtest\t(2.6833411666993925, 0.10140277311668117, 1)\n",
      "params_ftest\t(2.6808374415930976, 0.10173946339784311, 1776.0, 1.0)\n",
      "----------------------------------------\n",
      "Days Behind: approx. 2 Lag: 2\n",
      "----------------------------------------\n",
      "Test\t\tResult\n",
      "ssr_ftest\t(2.470973402748302, 0.08479352697134841, 1773.0, 2)\n",
      "ssr_chi2test\t(4.955883485715151, 0.0839157681920064, 2)\n",
      "lrtest\t(4.948989437099954, 0.08420552700067456, 2)\n",
      "params_ftest\t(2.470973402749839, 0.08479352697123499, 1773.0, 2.0)\n",
      "----------------------------------------\n",
      "Days Behind: approx. 3 Lag: 3\n",
      "----------------------------------------\n",
      "Test\t\tResult\n",
      "ssr_ftest\t(2.126473696243258, 0.0949432205325677, 1770.0, 3)\n",
      "ssr_chi2test\t(6.404650437668253, 0.09349966185672265, 3)\n",
      "lrtest\t(6.3931362982984865, 0.09397356800375699, 3)\n",
      "params_ftest\t(2.126473696246894, 0.09494322053211617, 1770.0, 3.0)\n",
      "----------------------------------------\n",
      "Days Behind: approx. 4 Lag: 4\n",
      "----------------------------------------\n",
      "Test\t\tResult\n",
      "ssr_ftest\t(2.1499051019252837, 0.07239290423526101, 1767.0, 4)\n",
      "ssr_chi2test\t(8.643421530321005, 0.0706571521731785, 4)\n",
      "lrtest\t(8.622456659115414, 0.07126106331995186, 4)\n",
      "params_ftest\t(2.149905101926776, 0.07239290423508253, 1767.0, 4.0)\n",
      "----------------------------------------\n",
      "Days Behind: approx. 5 Lag: 5\n",
      "----------------------------------------\n",
      "Test\t\tResult\n",
      "ssr_ftest\t(2.711637389392481, 0.018980522261043607, 1764.0, 5)\n",
      "ssr_chi2test\t(13.642733464205369, 0.018045384979427953, 5)\n",
      "lrtest\t(13.59057122917875, 0.0184303658259453, 5)\n",
      "params_ftest\t(2.7116373894024646, 0.018980522260663872, 1764.0, 5.0)\n",
      "----------------------------------------\n",
      "Days Behind: approx. 6 Lag: 6\n",
      "----------------------------------------\n",
      "Test\t\tResult\n",
      "ssr_ftest\t(3.4406286339947867, 0.002211920386041702, 1761.0, 6)\n",
      "ssr_chi2test\t(20.79616762080665, 0.0019958750721965793, 6)\n",
      "lrtest\t(20.67521775644491, 0.002098031552036773, 6)\n",
      "params_ftest\t(3.440628633978403, 0.00221192038613043, 1761.0, 6.0)\n",
      "----------------------------------------\n",
      "Days Behind: approx. 7 Lag: 7\n",
      "----------------------------------------\n",
      "Test\t\tResult\n",
      "ssr_ftest\t(2.9984080317398862, 0.0039299664467803115, 1758.0, 7)\n",
      "ssr_chi2test\t(21.167942026122713, 0.0035293788900733363, 7)\n",
      "lrtest\t(21.042576274729072, 0.0037076436295770047, 7)\n",
      "params_ftest\t(2.9984080317391992, 0.003929966446787488, 1758.0, 7.0)\n",
      "----------------------------------------\n",
      "Days Behind: approx. 8 Lag: 8\n",
      "----------------------------------------\n",
      "Test\t\tResult\n",
      "ssr_ftest\t(4.163887054586129, 6.019364705765279e-05, 1755.0, 8)\n",
      "ssr_chi2test\t(33.63376802610425, 4.73261573724232e-05, 8)\n",
      "lrtest\t(33.31855450216608, 5.395720967808072e-05, 8)\n",
      "params_ftest\t(4.163887054586924, 6.01936470574924e-05, 1755.0, 8.0)\n",
      "----------------------------------------\n",
      "Days Behind: approx. 9 Lag: 9\n",
      "----------------------------------------\n",
      "Test\t\tResult\n",
      "ssr_ftest\t(3.823427448578791, 8.423572335532426e-05, 1752.0, 9)\n",
      "ssr_chi2test\t(34.784024031334106, 6.504210873993628e-05, 9)\n",
      "lrtest\t(34.446837307063106, 7.456373977221205e-05, 9)\n",
      "params_ftest\t(3.8234274485793875, 8.423572335514231e-05, 1752.0, 9.0)\n",
      "----------------------------------------\n",
      "Days Behind: approx. 10 Lag: 10\n",
      "----------------------------------------\n",
      "Test\t\tResult\n",
      "ssr_ftest\t(3.134379246266174, 0.0005568913199260175, 1749.0, 10)\n",
      "ssr_chi2test\t(31.720133023962994, 0.0004457738234858596, 10)\n",
      "lrtest\t(31.439255868273904, 0.0004963023467363496, 10)\n",
      "params_ftest\t(3.1343792462635474, 0.0005568913199314687, 1749.0, 10.0)\n",
      "----------------------------------------\n",
      "Days Behind: approx. 11 Lag: 11\n",
      "----------------------------------------\n",
      "Test\t\tResult\n",
      "ssr_ftest\t(3.611708578374499, 4.556549115635136e-05, 1746.0, 11)\n",
      "ssr_chi2test\t(40.25214045050938, 3.2391010403562176e-05, 11)\n",
      "lrtest\t(39.80101871955776, 3.8689284129213506e-05, 11)\n",
      "params_ftest\t(3.6117085783730953, 4.556549115662041e-05, 1746.0, 11.0)\n",
      "----------------------------------------\n",
      "Days Behind: approx. 12 Lag: 12\n",
      "----------------------------------------\n",
      "Test\t\tResult\n",
      "ssr_ftest\t(3.99538441005359, 3.9227838932169225e-06, 1743.0, 12)\n",
      "ssr_chi2test\t(48.63228665731323, 2.4251517601307006e-06, 12)\n",
      "lrtest\t(47.97544171933259, 3.1565771543286165e-06, 12)\n",
      "params_ftest\t(3.9953844100399096, 3.922783893468184e-06, 1743.0, 12.0)\n",
      "----------------------------------------\n",
      "Days Behind: approx. 13 Lag: 13\n",
      "----------------------------------------\n",
      "Test\t\tResult\n",
      "ssr_ftest\t(4.285123398986497, 4.030839117750212e-07, 1740.0, 13)\n",
      "ssr_chi2test\t(56.57101701041313, 2.1374390471644409e-07, 13)\n",
      "lrtest\t(55.6843237736357, 3.0634917136517687e-07, 13)\n",
      "params_ftest\t(4.285123398991905, 4.0308391176387494e-07, 1740.0, 13.0)\n",
      "----------------------------------------\n",
      "Days Behind: approx. 14 Lag: 14\n",
      "----------------------------------------\n",
      "Test\t\tResult\n",
      "ssr_ftest\t(4.139254351098772, 3.6115097470953866e-07, 1737.0, 14)\n",
      "ssr_chi2test\t(58.917055023929784, 1.8150421845433053e-07, 14)\n",
      "lrtest\t(57.9555893585748, 2.6697357633139583e-07, 14)\n",
      "params_ftest\t(4.1392543510922275, 3.611509747223751e-07, 1737.0, 14.0)\n",
      "----------------------------------------\n",
      "Days Behind: approx. 15 Lag: 15\n",
      "----------------------------------------\n",
      "Test\t\tResult\n",
      "ssr_ftest\t(3.900751261875356, 6.093777106771384e-07, 1734.0, 15)\n",
      "ssr_chi2test\t(59.557318141955044, 3.004642988240127e-07, 15)\n",
      "lrtest\t(58.57452871897112, 4.426685792152623e-07, 15)\n",
      "params_ftest\t(3.9007512618706395, 6.093777106935844e-07, 1734.0, 15.0)\n",
      "----------------------------------------\n"
     ]
    }
   ],
   "source": [
    "for lag in range(1, NUM_LAGS + 1):\n",
    "  num_times_diffed = hashrate_diff_results[1]\n",
    "  # Because differencing shortens the length of the data,\n",
    "  # the number of days in the past of each lag is proportional\n",
    "  # to the ratio between the length of the data before and after differencing\n",
    "  days_behind = lag * int(len(prices) / len(stationary_prices))\n",
    "  print('Days Behind: approx. {0} Lag: {1}'.format(days_behind, lag))\n",
    "  print('-' * 40)\n",
    "  print('Test\\t\\tResult')\n",
    "  for test, results in (list(hashrate_cause_price_result.values())[lag - 1][0]).items():\n",
    "    print('{0}\\t{1}'.format(test, results))\n",
    "  print('-' * 40)"
   ]
  },
  {
   "cell_type": "markdown",
   "metadata": {},
   "source": [
    "But that's alot to take in at once, so let's only show the p values of our tests."
   ]
  },
  {
   "cell_type": "code",
   "execution_count": 15,
   "metadata": {},
   "outputs": [
    {
     "name": "stdout",
     "output_type": "stream",
     "text": [
      "Days Behind: approx. 1 Lag: 1\n",
      "----------------------------------------\n",
      "Test\t\tp-values\n",
      "ssr_ftest\t0.10173946339782156\n",
      "ssr_chi2test\t0.10127396165314134\n",
      "lrtest\t0.10140277311668117\n",
      "params_ftest\t0.10173946339784311\n",
      "----------------------------------------\n",
      "Days Behind: approx. 2 Lag: 2\n",
      "----------------------------------------\n",
      "Test\t\tp-values\n",
      "ssr_ftest\t0.08479352697134841\n",
      "ssr_chi2test\t0.0839157681920064\n",
      "lrtest\t0.08420552700067456\n",
      "params_ftest\t0.08479352697123499\n",
      "----------------------------------------\n",
      "Days Behind: approx. 3 Lag: 3\n",
      "----------------------------------------\n",
      "Test\t\tp-values\n",
      "ssr_ftest\t0.0949432205325677\n",
      "ssr_chi2test\t0.09349966185672265\n",
      "lrtest\t0.09397356800375699\n",
      "params_ftest\t0.09494322053211617\n",
      "----------------------------------------\n",
      "Days Behind: approx. 4 Lag: 4\n",
      "----------------------------------------\n",
      "Test\t\tp-values\n",
      "ssr_ftest\t0.07239290423526101\n",
      "ssr_chi2test\t0.0706571521731785\n",
      "lrtest\t0.07126106331995186\n",
      "params_ftest\t0.07239290423508253\n",
      "----------------------------------------\n",
      "Days Behind: approx. 5 Lag: 5\n",
      "----------------------------------------\n",
      "Test\t\tp-values\n",
      "ssr_ftest\t0.018980522261043607\n",
      "ssr_chi2test\t0.018045384979427953\n",
      "lrtest\t0.0184303658259453\n",
      "params_ftest\t0.018980522260663872\n",
      "----------------------------------------\n",
      "Days Behind: approx. 6 Lag: 6\n",
      "----------------------------------------\n",
      "Test\t\tp-values\n",
      "ssr_ftest\t0.002211920386041702\n",
      "ssr_chi2test\t0.0019958750721965793\n",
      "lrtest\t0.002098031552036773\n",
      "params_ftest\t0.00221192038613043\n",
      "----------------------------------------\n",
      "Days Behind: approx. 7 Lag: 7\n",
      "----------------------------------------\n",
      "Test\t\tp-values\n",
      "ssr_ftest\t0.0039299664467803115\n",
      "ssr_chi2test\t0.0035293788900733363\n",
      "lrtest\t0.0037076436295770047\n",
      "params_ftest\t0.003929966446787488\n",
      "----------------------------------------\n",
      "Days Behind: approx. 8 Lag: 8\n",
      "----------------------------------------\n",
      "Test\t\tp-values\n",
      "ssr_ftest\t6.019364705765279e-05\n",
      "ssr_chi2test\t4.73261573724232e-05\n",
      "lrtest\t5.395720967808072e-05\n",
      "params_ftest\t6.01936470574924e-05\n",
      "----------------------------------------\n",
      "Days Behind: approx. 9 Lag: 9\n",
      "----------------------------------------\n",
      "Test\t\tp-values\n",
      "ssr_ftest\t8.423572335532426e-05\n",
      "ssr_chi2test\t6.504210873993628e-05\n",
      "lrtest\t7.456373977221205e-05\n",
      "params_ftest\t8.423572335514231e-05\n",
      "----------------------------------------\n",
      "Days Behind: approx. 10 Lag: 10\n",
      "----------------------------------------\n",
      "Test\t\tp-values\n",
      "ssr_ftest\t0.0005568913199260175\n",
      "ssr_chi2test\t0.0004457738234858596\n",
      "lrtest\t0.0004963023467363496\n",
      "params_ftest\t0.0005568913199314687\n",
      "----------------------------------------\n",
      "Days Behind: approx. 11 Lag: 11\n",
      "----------------------------------------\n",
      "Test\t\tp-values\n",
      "ssr_ftest\t4.556549115635136e-05\n",
      "ssr_chi2test\t3.2391010403562176e-05\n",
      "lrtest\t3.8689284129213506e-05\n",
      "params_ftest\t4.556549115662041e-05\n",
      "----------------------------------------\n",
      "Days Behind: approx. 12 Lag: 12\n",
      "----------------------------------------\n",
      "Test\t\tp-values\n",
      "ssr_ftest\t3.9227838932169225e-06\n",
      "ssr_chi2test\t2.4251517601307006e-06\n",
      "lrtest\t3.1565771543286165e-06\n",
      "params_ftest\t3.922783893468184e-06\n",
      "----------------------------------------\n",
      "Days Behind: approx. 13 Lag: 13\n",
      "----------------------------------------\n",
      "Test\t\tp-values\n",
      "ssr_ftest\t4.030839117750212e-07\n",
      "ssr_chi2test\t2.1374390471644409e-07\n",
      "lrtest\t3.0634917136517687e-07\n",
      "params_ftest\t4.0308391176387494e-07\n",
      "----------------------------------------\n",
      "Days Behind: approx. 14 Lag: 14\n",
      "----------------------------------------\n",
      "Test\t\tp-values\n",
      "ssr_ftest\t3.6115097470953866e-07\n",
      "ssr_chi2test\t1.8150421845433053e-07\n",
      "lrtest\t2.6697357633139583e-07\n",
      "params_ftest\t3.611509747223751e-07\n",
      "----------------------------------------\n",
      "Days Behind: approx. 15 Lag: 15\n",
      "----------------------------------------\n",
      "Test\t\tp-values\n",
      "ssr_ftest\t6.093777106771384e-07\n",
      "ssr_chi2test\t3.004642988240127e-07\n",
      "lrtest\t4.426685792152623e-07\n",
      "params_ftest\t6.093777106935844e-07\n",
      "----------------------------------------\n"
     ]
    }
   ],
   "source": [
    "for lag in range(1, NUM_LAGS + 1):\n",
    "  num_times_diffed = hashrate_diff_results[1]\n",
    "  days_behind = lag * int(len(prices) / len(stationary_prices))\n",
    "  print('Days Behind: approx. {0} Lag: {1}'.format(days_behind, lag))\n",
    "  print('-' * 40)\n",
    "  print('Test\\t\\tp-values')\n",
    "  for test, results in (list(hashrate_cause_price_result.values())[lag - 1][0]).items():\n",
    "    p_value = results[1]\n",
    "    print('{0}\\t{1}'.format(test, p_value))\n",
    "  print('-' * 40)"
   ]
  },
  {
   "cell_type": "markdown",
   "metadata": {},
   "source": [
    "Actually, let's just see the average p value among every test at each lag."
   ]
  },
  {
   "cell_type": "code",
   "execution_count": 16,
   "metadata": {},
   "outputs": [
    {
     "name": "stdout",
     "output_type": "stream",
     "text": [
      "Days Behind: approx. 1 Lag: 1\n",
      "----------------------------------------\n",
      "Average p-value\n",
      "0.1015389153913718\n",
      "----------------------------------------\n",
      "Days Behind: approx. 2 Lag: 2\n",
      "----------------------------------------\n",
      "Average p-value\n",
      "0.0844270872838161\n",
      "----------------------------------------\n",
      "Days Behind: approx. 3 Lag: 3\n",
      "----------------------------------------\n",
      "Average p-value\n",
      "0.09433991773129088\n",
      "----------------------------------------\n",
      "Days Behind: approx. 4 Lag: 4\n",
      "----------------------------------------\n",
      "Average p-value\n",
      "0.07167600599086847\n",
      "----------------------------------------\n",
      "Days Behind: approx. 5 Lag: 5\n",
      "----------------------------------------\n",
      "Average p-value\n",
      "0.01860919883177018\n",
      "----------------------------------------\n",
      "Days Behind: approx. 6 Lag: 6\n",
      "----------------------------------------\n",
      "Average p-value\n",
      "0.002129436849101371\n",
      "----------------------------------------\n",
      "Days Behind: approx. 7 Lag: 7\n",
      "----------------------------------------\n",
      "Average p-value\n",
      "0.0037742388533045356\n",
      "----------------------------------------\n",
      "Days Behind: approx. 8 Lag: 8\n",
      "----------------------------------------\n",
      "Average p-value\n",
      "5.541766529141228e-05\n",
      "----------------------------------------\n",
      "Days Behind: approx. 9 Lag: 9\n",
      "----------------------------------------\n",
      "Average p-value\n",
      "7.701932380565373e-05\n",
      "----------------------------------------\n",
      "Days Behind: approx. 10 Lag: 10\n",
      "----------------------------------------\n",
      "Average p-value\n",
      "0.0005139647025199239\n",
      "----------------------------------------\n",
      "Days Behind: approx. 11 Lag: 11\n",
      "----------------------------------------\n",
      "Average p-value\n",
      "4.055281921143686e-05\n",
      "----------------------------------------\n",
      "Days Behind: approx. 12 Lag: 12\n",
      "----------------------------------------\n",
      "Average p-value\n",
      "3.356824175286106e-06\n",
      "----------------------------------------\n",
      "Days Behind: approx. 13 Lag: 13\n",
      "----------------------------------------\n",
      "Average p-value\n",
      "3.315652249051293e-07\n",
      "----------------------------------------\n",
      "Days Behind: approx. 14 Lag: 14\n",
      "----------------------------------------\n",
      "Average p-value\n",
      "2.9269493605441003e-07\n",
      "----------------------------------------\n",
      "Days Behind: approx. 15 Lag: 15\n",
      "----------------------------------------\n",
      "Average p-value\n",
      "4.904720748524995e-07\n",
      "----------------------------------------\n"
     ]
    }
   ],
   "source": [
    "for lag in range(1, NUM_LAGS + 1):\n",
    "  num_times_diffed = hashrate_diff_results[1]\n",
    "  days_behind = lag * int(len(prices) / len(stationary_prices))\n",
    "  print('Days Behind: approx. {0} Lag: {1}'.format(days_behind, lag))\n",
    "  print('-' * 40)\n",
    "  print('Average p-value')\n",
    "  test_ps = []\n",
    "  for test, results in (list(hashrate_cause_price_result.values())[lag - 1][0]).items():\n",
    "    p_value = results[1]\n",
    "    test_ps.append(p_value)\n",
    "  average_p = np.mean(test_ps)\n",
    "  print(average_p)\n",
    "  print('-' * 40)"
   ]
  },
  {
   "cell_type": "markdown",
   "metadata": {},
   "source": [
    "Awesome, so what we're looking at is how far back in time the hashrate (and price) influences the current price. Higher p values indicate lower statistical significance, or how much we can trust the test. We can see that the further back we look, the more the hashrate influences the price. This is could be useful for mid and long term prce forecasting, but it's not very useful for the short term.  \n",
    "\n",
    "Let's see how quickly the hashrate causes price. We do this by finding lag and with an average p value that meets our statistical significance."
   ]
  },
  {
   "cell_type": "code",
   "execution_count": 17,
   "metadata": {},
   "outputs": [],
   "source": [
    "earliest_lag = -1\n",
    "earliest_sig_days_past = -1\n",
    "earliest_sig_p_value = -1\n",
    "for lag in list(hashrate_cause_price_result.keys()):\n",
    "  num_times_diffed = hashrate_diff_results[1]\n",
    "  days_behind = lag * int(len(prices) / len(stationary_prices))\n",
    "  test_ps = []\n",
    "  for test, results in (list(hashrate_cause_price_result.values())[lag - 1][0]).items():\n",
    "    p_value = results[1]\n",
    "    test_ps.append(p_value)\n",
    "  average_p = np.mean(test_ps)\n",
    "  if average_p <= STATSIG_LEVEL and earliest_sig_days_past == -1:\n",
    "    earliest_sig_days_past = days_behind\n",
    "    earliest_lag = lag\n",
    "    earliest_sig_p_value = average_p"
   ]
  },
  {
   "cell_type": "code",
   "execution_count": 18,
   "metadata": {},
   "outputs": [
    {
     "name": "stdout",
     "output_type": "stream",
     "text": [
      "We can say with 98.14% confidence that Bitcoin's daily return at any time (t) is caused by a change in hashrate no earlier than 5 days prior to t.\n"
     ]
    }
   ],
   "source": [
    "print('We can say with {0}% confidence that Bitcoin\\'s daily return at any time (t) is caused by a change in hashrate no earlier than {1} days prior to t.'.format('%.2f' % ((1 - earliest_sig_p_value) * 100), earliest_sig_days_past))"
   ]
  },
  {
   "cell_type": "markdown",
   "metadata": {},
   "source": [
    "There we are. Now we know that Bitcoin's price and hashrate are linearly correlated, that the change in hashrate has a degree of causality of the daily returns, and that the change in hashrate as early as 5 days before the day of a return has an influence on that return. Or, a return at timestep *t* is Granger caused by a change in hashrate at timestep *t - 5*."
   ]
  }
 ],
 "metadata": {
  "kernelspec": {
   "display_name": "Python 3",
   "language": "python",
   "name": "python3"
  },
  "language_info": {
   "codemirror_mode": {
    "name": "ipython",
    "version": 3
   },
   "file_extension": ".py",
   "mimetype": "text/x-python",
   "name": "python",
   "nbconvert_exporter": "python",
   "pygments_lexer": "ipython3",
   "version": "3.6.0"
  }
 },
 "nbformat": 4,
 "nbformat_minor": 2
}
